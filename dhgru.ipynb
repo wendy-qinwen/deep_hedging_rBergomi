{
 "cells": [
  {
   "cell_type": "code",
   "execution_count": 6,
   "metadata": {},
   "outputs": [
    {
     "name": "stdout",
     "output_type": "stream",
     "text": [
      "    e:\\download\\chrome_download\\Calibrating-Rough-Volatility-Models-with-Deep-Learning-master\n",
      "\n",
      "Finish installing and importing all necessary libraries! 2.4.0\n"
     ]
    }
   ],
   "source": [
    "# !pip -q install QuantLib tqdm\n",
    "\n",
    "import sys, os\n",
    "sys.path.append(\"../\")\n",
    "# + \"/drive/MyDrive/Colab Notebooks/deep-hedging-master\"\n",
    "# from IPython.display import clear_output\n",
    "print(\"   \", os.getcwd())\n",
    "import numpy as np\n",
    "import QuantLib as ql\n",
    "import tensorflow as tf\n",
    "from scipy.stats import norm\n",
    "\n",
    "import tensorflow as tf\n",
    "from tensorflow.keras.callbacks import EarlyStopping, ModelCheckpoint, ReduceLROnPlateau\n",
    "from tensorflow.compat.v1.keras.optimizers import Adam\n",
    "from tensorflow.keras.models import Model\n",
    "\n",
    "import matplotlib.pyplot as plt\n",
    "\n",
    "from stochastic_processes import BlackScholesProcess\n",
    "from instruments import EuropeanCall\n",
    "from loss_metrics import Entropy\n",
    "from utilities import train_test_split\n",
    "\n",
    "# tf.config.experimental_run_functions_eagerly(True)\n",
    "# tf.config.set_soft_device_placement(True)\n",
    "tf.config.experimental.list_physical_devices(device_type=\"GPU\")\n",
    "print(\"\\nFinish installing and importing all necessary libraries!\", tf.__version__)\n",
    "\n",
    "from deep_hedging.deep_hedging_gru_0819 import Deep_Hedging_Model, Delta_SubModel\n"
   ]
  },
  {
   "cell_type": "code",
   "execution_count": 7,
   "metadata": {},
   "outputs": [
    {
     "name": "stdout",
     "output_type": "stream",
     "text": [
      "=====\n",
      "=====\n",
      "---------\n",
      "Finish preparing data!\n",
      "lambda is  1.0\n",
      "mean is  KerasTensor(type_spec=TensorSpec(shape=(), dtype=tf.float32, name=None), name='tf.math.reduce_mean/Mean:0', description=\"created by layer 'tf.math.reduce_mean'\")\n",
      "============ 62\n",
      "Epoch 1/30\n",
      "246/246 [==============================] - 27s 69ms/step - loss: 11.0795 - val_loss: 9.1844\n",
      "Epoch 2/30\n",
      "246/246 [==============================] - 16s 64ms/step - loss: 8.6707 - val_loss: 8.0539\n",
      "Epoch 3/30\n",
      "246/246 [==============================] - 17s 69ms/step - loss: 7.9828 - val_loss: 8.0900\n",
      "Epoch 4/30\n",
      "246/246 [==============================] - 15s 60ms/step - loss: 7.7539 - val_loss: 7.8634\n",
      "Epoch 5/30\n",
      "246/246 [==============================] - 15s 60ms/step - loss: 7.9935 - val_loss: 7.8086\n",
      "Epoch 6/30\n",
      "246/246 [==============================] - 15s 60ms/step - loss: 7.6298 - val_loss: 7.3176\n",
      "Epoch 7/30\n",
      "246/246 [==============================] - 15s 60ms/step - loss: 7.3874 - val_loss: 7.9765\n",
      "Epoch 8/30\n",
      "246/246 [==============================] - 15s 61ms/step - loss: 7.4561 - val_loss: 7.4077\n",
      "Epoch 9/30\n",
      "246/246 [==============================] - 15s 62ms/step - loss: 7.4301 - val_loss: 7.2755\n",
      "Epoch 10/30\n",
      "246/246 [==============================] - 15s 61ms/step - loss: 7.0973 - val_loss: 7.3629\n",
      "Epoch 11/30\n",
      "246/246 [==============================] - 15s 60ms/step - loss: 6.9175 - val_loss: 7.2359\n",
      "Epoch 12/30\n",
      "246/246 [==============================] - 16s 66ms/step - loss: 6.8466 - val_loss: 7.0809\n",
      "Epoch 13/30\n",
      "246/246 [==============================] - 16s 66ms/step - loss: 6.9798 - val_loss: 6.9076\n",
      "Epoch 14/30\n",
      "246/246 [==============================] - 15s 60ms/step - loss: 6.9442 - val_loss: 7.1073\n",
      "Epoch 15/30\n",
      "246/246 [==============================] - 15s 60ms/step - loss: 7.0262 - val_loss: 7.0003\n",
      "Epoch 16/30\n",
      "246/246 [==============================] - 15s 60ms/step - loss: 6.8462 - val_loss: 6.6549\n",
      "Epoch 17/30\n",
      "246/246 [==============================] - 15s 61ms/step - loss: 6.5237 - val_loss: 7.1742\n",
      "Epoch 18/30\n",
      "246/246 [==============================] - 16s 63ms/step - loss: 6.9268 - val_loss: 7.0646\n",
      "Epoch 19/30\n",
      "246/246 [==============================] - 17s 70ms/step - loss: 6.7479 - val_loss: 6.4256\n",
      "Epoch 20/30\n",
      "246/246 [==============================] - 16s 66ms/step - loss: 6.5911 - val_loss: 6.8302\n",
      "Epoch 21/30\n",
      "246/246 [==============================] - 15s 62ms/step - loss: 6.6321 - val_loss: 6.8743\n",
      "Epoch 22/30\n",
      "246/246 [==============================] - 16s 66ms/step - loss: 6.5396 - val_loss: 6.5713\n",
      "Epoch 23/30\n",
      "246/246 [==============================] - 16s 67ms/step - loss: 6.4769 - val_loss: 7.0759\n",
      "Epoch 24/30\n",
      "246/246 [==============================] - 15s 63ms/step - loss: 6.9859 - val_loss: 6.7959\n",
      "Epoch 25/30\n",
      "246/246 [==============================] - 15s 62ms/step - loss: 6.6924 - val_loss: 6.7379\n",
      "Epoch 26/30\n",
      "246/246 [==============================] - 15s 62ms/step - loss: 6.5284 - val_loss: 6.7109\n",
      "Epoch 27/30\n",
      "246/246 [==============================] - 15s 62ms/step - loss: 6.4436 - val_loss: 6.6121\n",
      "Epoch 28/30\n",
      "246/246 [==============================] - 19s 77ms/step - loss: 6.6543 - val_loss: 7.2731\n",
      "Epoch 29/30\n",
      "246/246 [==============================] - 19s 77ms/step - loss: 6.6094 - val_loss: 6.6459\n",
      "Epoch 30/30\n",
      "246/246 [==============================] - 19s 75ms/step - loss: 6.6436 - val_loss: 6.8686\n",
      "Finished running deep hedging algorithm! (Simple Network)\n",
      "\n",
      "\n",
      "s0 = 100\n",
      "sigma = 0.1224\n",
      "risk_free = 0.0\n",
      "\n",
      "Number of time steps = 30\n",
      "Length of each time step = 1/365\n",
      "\n",
      "Simulation Done!\n"
     ]
    }
   ],
   "source": [
    "\n",
    "# <font color='Blue'>**User Inputs**</font>\n",
    "print(\"=====\")\n",
    "# Geometric Brownian Motion.\n",
    "N = 30  # Number of time steps (in days)\n",
    "\n",
    "S0 = 100  # Stock price at time = 0\n",
    "sigma = 0.1224# Implied volatility\n",
    "risk_free = 0.0  # Risk-free rate\n",
    "dividend = 0.0  # Continuous dividend yield\n",
    "print(\"=====\")\n",
    "Ktrain = 1 * (10 ** 5)  # Size of training sample.\n",
    "Ktest_ratio = 0.2  # Fraction of training sample as testing sample.\n",
    "\n",
    "# European call option (short).\n",
    "strike = S0\n",
    "payoff_func = lambda x: -np.maximum(x - strike, 0.0)\n",
    "calculation_date = ql.Date.todaysDate()\n",
    "maturity_date = ql.Date.todaysDate() + N\n",
    "\n",
    "# Day convention.\n",
    "day_count = ql.Actual365Fixed()  # Actual/Actual (ISDA)\n",
    "\n",
    "# Proportional transaction cost.\n",
    "epsilon = 0.0\n",
    "\n",
    "# Information set (in string)\n",
    "# Choose from: S, log_S, normalized_log_S (by S0)\n",
    "information_set = \"normalized_log_S\"\n",
    "\n",
    "# Loss function\n",
    "# loss_type = \"CVaR\" (Expected Shortfall) -> loss_param = alpha\n",
    "# loss_type = \"Entropy\" -> loss_param = lambda\n",
    "\n",
    "loss_type = \"Entropy\"\n",
    "loss_param = 1.0\n",
    "\n",
    "# Neural network (NN) structure\n",
    "m = 15  # Number of neurons in each hidden layer.\n",
    "d = 1  # Number of hidden layers (Note including input nor output layer)\n",
    "\n",
    "# Neural network training parameters\n",
    "lr = 1e-2  # Learning rate\n",
    "batch_size = 400  # Batch size\n",
    "epochs = 30 # Number of epochs\n",
    "\n",
    "# Other parameters\n",
    "use_batch_norm = False\n",
    "kernel_initializer = \"he_uniform\"\n",
    "\n",
    "activation_dense = \"leaky_relu\"\n",
    "activation_output = \"sigmoid\"\n",
    "final_period_cost = False\n",
    "\n",
    "delta_constraint = (0.0, 1.0)\n",
    "share_stretegy_across_time = False\n",
    "cost_structure = \"proportional\"\n",
    "\n",
    "# Other control flags for development purpose.\n",
    "mc_simulator = \"QuantLib\"  # \"QuantLib\" or \"Numpy\"\n",
    "\n",
    "seed = 0  # Random seed. Change to have deterministic outcome.\n",
    "\n",
    "print(\"---------\")\n",
    "\n",
    "# Total obs = Training + Testing\n",
    "nobs = int(Ktrain * (1 + Ktest_ratio))\n",
    "\n",
    "# Length of one time-step (as fraction of a year).\n",
    "dt = day_count.yearFraction(calculation_date, calculation_date + 1)\n",
    "maturity = N * dt  # Maturities (in the unit of a year)\n",
    "\n",
    "# Total obs = Training + Testing\n",
    "S = np.load('./data/deep_hedging/rb_price.npy')\n",
    "list_true = []\n",
    "for i in S[:,-1]:\n",
    "    if i>70 and i<130:\n",
    "        list_true.append(True)\n",
    "    else:\n",
    "        list_true.append(False)\n",
    "aa = S[list_true]\n",
    "S = aa[0:(aa.shape[0]//400)*400,:]\n",
    "# S = 100*S\n",
    "# S = S\n",
    "stochastic_process = BlackScholesProcess(s0 = S0, sigma = sigma, risk_free = risk_free, \\\n",
    "                        dividend = dividend, day_count = day_count, seed=seed)\n",
    "\n",
    "# S = stochastic_process.gen_path(maturity, N, nobs)\n",
    "# <font color='Blue'>**Prepare data to be fed into the deep hedging algorithm.**</font>\n",
    "\n",
    "payoff_T = payoff_func(S[:, -1])  # Payoff of the call option\n",
    "\n",
    "trade_set = np.stack((S), axis=1)  # Trading set\n",
    "\n",
    "if information_set is \"S\":\n",
    "    I = np.stack((S), axis=1)  # Information set\n",
    "elif information_set is \"log_S\":\n",
    "    I = np.stack((np.log(S)), axis=1)\n",
    "elif information_set is \"normalized_log_S\":\n",
    "    I = np.stack((np.log(S / S0)), axis=1)\n",
    "\n",
    "# Structure of xtrain:\n",
    "#   1) Trade set: [S]\n",
    "#   2) Information set: [S]\n",
    "#   3) payoff (dim = 1)\n",
    "x_all = []\n",
    "for i in range(N + 1):\n",
    "    x_all += [trade_set[i, :, None]]\n",
    "    if i != N:\n",
    "        x_all += [I[i, :, None]]\n",
    "x_all += [payoff_T[:, None]]\n",
    "\n",
    "# Split the entire sample into a training sample and a testing sample.\n",
    "test_size = int(Ktrain * Ktest_ratio)\n",
    "[xtrain, xtest] = train_test_split(x_all, test_size=test_size)  # 62*100000, 62*20000\n",
    "[S_train, S_test] = train_test_split([S], test_size=test_size)  # 100000*31， 20000*31\n",
    "[option_payoff_train, option_payoff_test] = train_test_split([x_all[-1]], test_size=test_size)  # 1*100000， 1*20000\n",
    "\n",
    "print(\"Finish preparing data!\")\n",
    "\n",
    "\n",
    "\n",
    "optimizer = Adam(learning_rate=lr)\n",
    "\n",
    "# Setup and compile the model\n",
    "model_recurrent = Deep_Hedging_Model(N=N, d=d + 2, m=m, risk_free=risk_free, \\\n",
    "                                     dt=dt, strategy_type=\"recurrent\", epsilon=epsilon, \\\n",
    "                                     use_batch_norm=use_batch_norm, kernel_initializer=kernel_initializer, \\\n",
    "                                     activation_dense=activation_dense, activation_output=activation_output, \\\n",
    "                                     final_period_cost=final_period_cost)\n",
    "\n",
    "loss = Entropy(model_recurrent.output, None, loss_param)\n",
    "model_recurrent.add_loss(loss)\n",
    "\n",
    "model_recurrent.compile(optimizer=optimizer)\n",
    "\n",
    "early_stopping = EarlyStopping(monitor=\"loss\", \\\n",
    "                               patience=10, min_delta=1e-4, restore_best_weights=True)\n",
    "reduce_lr = ReduceLROnPlateau(monitor=\"loss\", \\\n",
    "                              factor=0.5, patience=2, min_delta=1e-3, verbose=0)\n",
    "\n",
    "callbacks = [early_stopping, reduce_lr]\n",
    "dataset = []\n",
    "print(\"============\", len(xtrain))\n",
    "# for i in range(len(xtrain)):\n",
    "#     print(\"--i is \",i)\n",
    "#     dataset = dataset + [tf.data.Dataset.from_tensor_slices(xtrain).batch(batch_size=batch_size)]\n",
    "# dataset = tf.data.Dataset.from_tensor_slices(xtrain)\n",
    "# dataset = dataset.batch(batch_size=batch_size)\n",
    "# Fit the model.\n",
    "model_recurrent.fit(x=xtrain, batch_size=batch_size, epochs=epochs, validation_data=xtest, verbose=1)  #\n",
    "# model_recurrent.fit(x=dataset,  epochs=epochs,  verbose=1)  #\n",
    "\n",
    "# clear_output()\n",
    "print(\"Finished running deep hedging algorithm! (Simple Network)\")\n",
    "\n",
    "print(\"\\n\\ns0 = \" + str(S0))\n",
    "print(\"sigma = \" + str(sigma))\n",
    "print(\"risk_free = \" + str(risk_free) + \"\\n\")\n",
    "print(\"Number of time steps = \" + str(N))\n",
    "print(\"Length of each time step = \" + \"1/365\\n\")\n",
    "print(\"Simulation Done!\")\n"
   ]
  },
  {
   "cell_type": "code",
   "execution_count": 9,
   "metadata": {},
   "outputs": [
    {
     "data": {
      "text/plain": [
       "3.594217035345809"
      ]
     },
     "execution_count": 9,
     "metadata": {},
     "output_type": "execute_result"
    }
   ],
   "source": [
    "call = EuropeanCall()\n",
    "\n",
    "price_BS = call.get_BS_price(S = S_test[0], sigma = sigma, \\\n",
    "              risk_free = risk_free, dividend = dividend, K = strike, \\\n",
    "              exercise_date = maturity_date, \\\n",
    "              calculation_date = calculation_date, \\\n",
    "              day_count = day_count, dt = dt)\n",
    "delta_BS = call.get_BS_delta(S = S_test[0], sigma = sigma, \\\n",
    "              risk_free = risk_free, dividend = dividend, K = strike, \\\n",
    "              exercise_date = maturity_date, \\\n",
    "              calculation_date = calculation_date, \n",
    "              day_count = day_count, dt = dt)\n",
    "\n",
    "PnL_BS =  call.get_BS_PnL(S= S_test[0], \\\n",
    "              payoff= payoff_func(S_test[0][:,-1]), delta=delta_BS, \\\n",
    "              dt= dt, risk_free = risk_free, \\\n",
    "              final_period_cost=final_period_cost, epsilon=epsilon, \\\n",
    "              cost_structure = cost_structure )\n",
    "\n",
    "risk_neutral_price = \\\n",
    "    -option_payoff_test[0].mean()*np.exp(-risk_free*(N*dt))\n",
    "risk_neutral_price"
   ]
  },
  {
   "cell_type": "code",
   "execution_count": 10,
   "metadata": {},
   "outputs": [
    {
     "name": "stdout",
     "output_type": "stream",
     "text": [
      "The Black-Scholes model price is 1.400.\n",
      "The Risk Neutral price is 3.594.\n",
      "aaaa\n",
      "The Deep Hedging (with recurrent network) price is 6.975.\n"
     ]
    }
   ],
   "source": [
    "\n",
    "print(\"The Black-Scholes model price is %2.3f.\" % price_BS[0][0])\n",
    "print(\"The Risk Neutral price is %2.3f.\" % risk_neutral_price)\n",
    "\n",
    "nn_recurrent_price = model_recurrent.evaluate(xtest, batch_size=batch_size, verbose=0)\n",
    "try:\n",
    "  print(\"aaaa\")\n",
    "  nn_recurrent_price = model_recurrent.evaluate(xtest, batch_size=batch_size, verbose=0)\n",
    "  print(\"The Deep Hedging (with recurrent network) price is %2.3f.\" % nn_recurrent_price)\n",
    "except:\n",
    "  print(\"No Recurrent model.\")"
   ]
  },
  {
   "cell_type": "code",
   "execution_count": 11,
   "metadata": {},
   "outputs": [
    {
     "data": {
      "image/png": "[encoded data removed]",
      "text/plain": [
       "<Figure size 750x500 with 1 Axes>"
      ]
     },
     "metadata": {},
     "output_type": "display_data"
    }
   ],
   "source": [
    "%matplotlib inline\n",
    "bar1 = PnL_BS + price_BS[0][0]\n",
    "bar2 = model_recurrent.predict(xtest,batch_size=batch_size).squeeze() + price_BS[0][0]\n",
    "\n",
    "# Plot Black-Scholes PnL and Deep Hedging PnL (with BS_price charged on both).\n",
    "fig_PnL = plt.figure(dpi= 125, facecolor='w')\n",
    "fig_PnL.suptitle(\"Black-Scholes PnL vs Rb Deep Hedging PnL \\n\", \\\n",
    "      fontweight=\"bold\")\n",
    "ax = fig_PnL.add_subplot()\n",
    "# ax.set_title(\"Simple Network Structure with epsilon = \" + str(epsilon), \\\n",
    "#       fontsize=8)\n",
    "ax.set_xlabel(\"PnL\")\n",
    "ax.set_ylabel(\"Frequency\")\n",
    "# ax.set_xbound(lower=-0.5,upper=0.5)\n",
    "ax.set_xlim(-10,5)\n",
    "ax.hist((bar1,bar2), bins=120, \\\n",
    "          label=[\"Black-Scholes PnL\",\"Heston Deep Hedging PnL\"])\n",
    "ax.legend()\n",
    "plt.show()"
   ]
  },
  {
   "cell_type": "code",
   "execution_count": 15,
   "metadata": {},
   "outputs": [
    {
     "data": {
      "text/plain": [
       "20000"
      ]
     },
     "execution_count": 15,
     "metadata": {},
     "output_type": "execute_result"
    }
   ],
   "source": [
    "len(bar2)"
   ]
  },
  {
   "cell_type": "code",
   "execution_count": 6,
   "metadata": {},
   "outputs": [
    {
     "ename": "OSError",
     "evalue": "bar1_heston_spx.npz not found.",
     "output_type": "error",
     "traceback": [
      "\u001b[1;31m---------------------------------------------------------------------------\u001b[0m",
      "\u001b[1;31mOSError\u001b[0m                                   Traceback (most recent call last)",
      "\u001b[1;32m~\\AppData\\Local\\Temp/ipykernel_4088/1503179610.py\u001b[0m in \u001b[0;36m<module>\u001b[1;34m\u001b[0m\n\u001b[1;32m----> 1\u001b[1;33m \u001b[0mbar1_rb_ftse\u001b[0m \u001b[1;33m=\u001b[0m \u001b[0mnp\u001b[0m\u001b[1;33m.\u001b[0m\u001b[0mloadtxt\u001b[0m\u001b[1;33m(\u001b[0m\u001b[1;34m'bar1_heston_spx.npz'\u001b[0m\u001b[1;33m)\u001b[0m\u001b[1;33m\u001b[0m\u001b[1;33m\u001b[0m\u001b[0m\n\u001b[0m\u001b[0;32m      2\u001b[0m \u001b[0mbar2_rb_ftse\u001b[0m \u001b[1;33m=\u001b[0m \u001b[0mnp\u001b[0m\u001b[1;33m.\u001b[0m\u001b[0mloadtxt\u001b[0m\u001b[1;33m(\u001b[0m\u001b[1;34m'bar2_heston_spx.npz'\u001b[0m\u001b[1;33m)\u001b[0m\u001b[1;33m\u001b[0m\u001b[1;33m\u001b[0m\u001b[0m\n\u001b[0;32m      3\u001b[0m \u001b[1;33m\u001b[0m\u001b[0m\n\u001b[0;32m      4\u001b[0m \u001b[1;33m\u001b[0m\u001b[0m\n\u001b[0;32m      5\u001b[0m \u001b[1;31m# Plot Black-Scholes PnL and Deep Hedging PnL (with BS_price charged on both).\u001b[0m\u001b[1;33m\u001b[0m\u001b[1;33m\u001b[0m\u001b[1;33m\u001b[0m\u001b[0m\n",
      "\u001b[1;32mD:\\Anaconda3\\envs\\tf2_cpu\\lib\\site-packages\\numpy\\lib\\npyio.py\u001b[0m in \u001b[0;36mloadtxt\u001b[1;34m(fname, dtype, comments, delimiter, converters, skiprows, usecols, unpack, ndmin, encoding, max_rows)\u001b[0m\n\u001b[0;32m    959\u001b[0m             \u001b[0mfname\u001b[0m \u001b[1;33m=\u001b[0m \u001b[0mos_fspath\u001b[0m\u001b[1;33m(\u001b[0m\u001b[0mfname\u001b[0m\u001b[1;33m)\u001b[0m\u001b[1;33m\u001b[0m\u001b[1;33m\u001b[0m\u001b[0m\n\u001b[0;32m    960\u001b[0m         \u001b[1;32mif\u001b[0m \u001b[0m_is_string_like\u001b[0m\u001b[1;33m(\u001b[0m\u001b[0mfname\u001b[0m\u001b[1;33m)\u001b[0m\u001b[1;33m:\u001b[0m\u001b[1;33m\u001b[0m\u001b[1;33m\u001b[0m\u001b[0m\n\u001b[1;32m--> 961\u001b[1;33m             \u001b[0mfh\u001b[0m \u001b[1;33m=\u001b[0m \u001b[0mnp\u001b[0m\u001b[1;33m.\u001b[0m\u001b[0mlib\u001b[0m\u001b[1;33m.\u001b[0m\u001b[0m_datasource\u001b[0m\u001b[1;33m.\u001b[0m\u001b[0mopen\u001b[0m\u001b[1;33m(\u001b[0m\u001b[0mfname\u001b[0m\u001b[1;33m,\u001b[0m \u001b[1;34m'rt'\u001b[0m\u001b[1;33m,\u001b[0m \u001b[0mencoding\u001b[0m\u001b[1;33m=\u001b[0m\u001b[0mencoding\u001b[0m\u001b[1;33m)\u001b[0m\u001b[1;33m\u001b[0m\u001b[1;33m\u001b[0m\u001b[0m\n\u001b[0m\u001b[0;32m    962\u001b[0m             \u001b[0mfencoding\u001b[0m \u001b[1;33m=\u001b[0m \u001b[0mgetattr\u001b[0m\u001b[1;33m(\u001b[0m\u001b[0mfh\u001b[0m\u001b[1;33m,\u001b[0m \u001b[1;34m'encoding'\u001b[0m\u001b[1;33m,\u001b[0m \u001b[1;34m'latin1'\u001b[0m\u001b[1;33m)\u001b[0m\u001b[1;33m\u001b[0m\u001b[1;33m\u001b[0m\u001b[0m\n\u001b[0;32m    963\u001b[0m             \u001b[0mfh\u001b[0m \u001b[1;33m=\u001b[0m \u001b[0miter\u001b[0m\u001b[1;33m(\u001b[0m\u001b[0mfh\u001b[0m\u001b[1;33m)\u001b[0m\u001b[1;33m\u001b[0m\u001b[1;33m\u001b[0m\u001b[0m\n",
      "\u001b[1;32mD:\\Anaconda3\\envs\\tf2_cpu\\lib\\site-packages\\numpy\\lib\\_datasource.py\u001b[0m in \u001b[0;36mopen\u001b[1;34m(path, mode, destpath, encoding, newline)\u001b[0m\n\u001b[0;32m    193\u001b[0m \u001b[1;33m\u001b[0m\u001b[0m\n\u001b[0;32m    194\u001b[0m     \u001b[0mds\u001b[0m \u001b[1;33m=\u001b[0m \u001b[0mDataSource\u001b[0m\u001b[1;33m(\u001b[0m\u001b[0mdestpath\u001b[0m\u001b[1;33m)\u001b[0m\u001b[1;33m\u001b[0m\u001b[1;33m\u001b[0m\u001b[0m\n\u001b[1;32m--> 195\u001b[1;33m     \u001b[1;32mreturn\u001b[0m \u001b[0mds\u001b[0m\u001b[1;33m.\u001b[0m\u001b[0mopen\u001b[0m\u001b[1;33m(\u001b[0m\u001b[0mpath\u001b[0m\u001b[1;33m,\u001b[0m \u001b[0mmode\u001b[0m\u001b[1;33m,\u001b[0m \u001b[0mencoding\u001b[0m\u001b[1;33m=\u001b[0m\u001b[0mencoding\u001b[0m\u001b[1;33m,\u001b[0m \u001b[0mnewline\u001b[0m\u001b[1;33m=\u001b[0m\u001b[0mnewline\u001b[0m\u001b[1;33m)\u001b[0m\u001b[1;33m\u001b[0m\u001b[1;33m\u001b[0m\u001b[0m\n\u001b[0m\u001b[0;32m    196\u001b[0m \u001b[1;33m\u001b[0m\u001b[0m\n\u001b[0;32m    197\u001b[0m \u001b[1;33m\u001b[0m\u001b[0m\n",
      "\u001b[1;32mD:\\Anaconda3\\envs\\tf2_cpu\\lib\\site-packages\\numpy\\lib\\_datasource.py\u001b[0m in \u001b[0;36mopen\u001b[1;34m(self, path, mode, encoding, newline)\u001b[0m\n\u001b[0;32m    533\u001b[0m                                       encoding=encoding, newline=newline)\n\u001b[0;32m    534\u001b[0m         \u001b[1;32melse\u001b[0m\u001b[1;33m:\u001b[0m\u001b[1;33m\u001b[0m\u001b[1;33m\u001b[0m\u001b[0m\n\u001b[1;32m--> 535\u001b[1;33m             \u001b[1;32mraise\u001b[0m \u001b[0mIOError\u001b[0m\u001b[1;33m(\u001b[0m\u001b[1;34m\"%s not found.\"\u001b[0m \u001b[1;33m%\u001b[0m \u001b[0mpath\u001b[0m\u001b[1;33m)\u001b[0m\u001b[1;33m\u001b[0m\u001b[1;33m\u001b[0m\u001b[0m\n\u001b[0m\u001b[0;32m    536\u001b[0m \u001b[1;33m\u001b[0m\u001b[0m\n\u001b[0;32m    537\u001b[0m \u001b[1;33m\u001b[0m\u001b[0m\n",
      "\u001b[1;31mOSError\u001b[0m: bar1_heston_spx.npz not found."
     ]
    }
   ],
   "source": [
    "bar1_rb_ftse = np.loadtxt('bar1_heston_spx.npz')\n",
    "bar2_rb_ftse = np.loadtxt('bar2_heston_spx.npz')\n",
    "\n",
    "\n",
    "# Plot Black-Scholes PnL and Deep Hedging PnL (with BS_price charged on both).\n",
    "fig_PnL = plt.figure(dpi= 125, facecolor='w')\n",
    "fig_PnL.suptitle(\"Heston deep hedging P&L vs rBergomi deep hedging P&L \\n\", \\\n",
    "      fontweight=\"bold\")\n",
    "ax = fig_PnL.add_subplot()\n",
    "# ax.set_title(\"Simple Network Structure with epsilon = \" + str(epsilon), \\\n",
    "#       fontsize=8)\n",
    "ax.set_xlabel(\"P&L\")\n",
    "ax.set_ylabel(\"Frequency\")\n",
    "ax.set_xbound(lower=-0.5,upper=0.5)\n",
    "# ax.set_xlim(-2,1.5)\n",
    "ax.hist((bar1_rb_ftse+0.6,bar2_rb_ftse+0.6,bar2), bins=90, \\\n",
    "          label=[\"Black-Scholes P&L\",\"Heston deep hedging P&L\",\"RBergomi deep hedging P&L\"],\n",
    "          color=['#C03302','#B88572','#3A001E'])\n",
    "ax.legend()\n",
    "plt.show()"
   ]
  },
  {
   "cell_type": "code",
   "execution_count": 15,
   "metadata": {},
   "outputs": [
    {
     "name": "stdout",
     "output_type": "stream",
     "text": [
      "rBergomi-ftse-mean 0.11711863\n",
      "rBergomi-ftse-std 0.67883164\n"
     ]
    }
   ],
   "source": [
    "aa = bar2\n",
    "print(\"rBergomi-ftse-mean\",np.mean(aa))\n",
    "print(\"rBergomi-ftse-std\",np.std(aa))"
   ]
  },
  {
   "cell_type": "code",
   "execution_count": 21,
   "metadata": {},
   "outputs": [],
   "source": [
    "bar2_rb_ftse=bar2_rb_ftse+0.6\n",
    "bar1_rb_ftse=bar1_rb_ftse+0.6"
   ]
  },
  {
   "cell_type": "code",
   "execution_count": 22,
   "metadata": {},
   "outputs": [
    {
     "name": "stdout",
     "output_type": "stream",
     "text": [
      "BS-ftse-mean -0.1113365469115151\n",
      "BS-ftse-std 0.8394009498895068\n"
     ]
    }
   ],
   "source": [
    "print(\"BS-ftse-mean\",np.mean(bar1_rb_ftse))\n",
    "print(\"BS-ftse-std\",np.std(bar1_rb_ftse))"
   ]
  },
  {
   "cell_type": "code",
   "execution_count": 23,
   "metadata": {},
   "outputs": [
    {
     "name": "stdout",
     "output_type": "stream",
     "text": [
      "heston-ftse-mean -0.11663801299929619\n",
      "heston-ftse-std 0.7478942890590821\n"
     ]
    }
   ],
   "source": [
    "print(\"heston-ftse-mean\",np.mean(bar2_rb_ftse))\n",
    "print(\"heston-ftse-std\",np.std(bar2_rb_ftse))"
   ]
  },
  {
   "cell_type": "code",
   "execution_count": 24,
   "metadata": {},
   "outputs": [
    {
     "name": "stdout",
     "output_type": "stream",
     "text": [
      "varheston99: 2.016784362578392\n",
      "varheston90: 2.0654804372787474\n",
      "varheston60: 2.2445865788459773\n"
     ]
    }
   ],
   "source": [
    "import pandas as pd\n",
    "def var_historic(r, level=1):\n",
    "    \"\"\"\n",
    "    Takes in a series of returns (r), and the percentage level\n",
    "(level)\n",
    "    Returns the historic Value at Risk at a specified level\n",
    "    i.e. returns the number such that \"level\" percent of the returns\n",
    "    fall below that number, and the (100-level) percent are above\n",
    "    \"\"\"\n",
    "    if isinstance(r, pd.DataFrame):\n",
    "        return r.aggregate(var_historic, level=level)\n",
    "    elif isinstance(r, pd.Series):\n",
    "        return -np.percentile(r, level)\n",
    "    else:\n",
    "        raise TypeError(\"Expected r to be a Series or DataFrame\")\n",
    "varheston99=var_historic(pd.Series(bar2_rb_ftse), level=0.99)\n",
    "varheston90=var_historic(pd.Series(bar2_rb_ftse), level=0.90)\n",
    "varheston60=var_historic(pd.Series(bar2_rb_ftse), level=0.60)\n",
    "print(\"varheston99:\",varheston99)\n",
    "print(\"varheston90:\",varheston90)\n",
    "print(\"varheston60:\",varheston60)"
   ]
  },
  {
   "cell_type": "code",
   "execution_count": 25,
   "metadata": {},
   "outputs": [
    {
     "name": "stdout",
     "output_type": "stream",
     "text": [
      "varrB99: 1.9864479400396349\n",
      "varrB90: 2.052747687339783\n",
      "varrB60: 2.2620439500808716\n"
     ]
    }
   ],
   "source": [
    "import pandas as pd\n",
    "def var_historic(r, level=1):\n",
    "    \"\"\"\n",
    "    Takes in a series of returns (r), and the percentage level\n",
    "(level)\n",
    "    Returns the historic Value at Risk at a specified level\n",
    "    i.e. returns the number such that \"level\" percent of the returns\n",
    "    fall below that number, and the (100-level) percent are above\n",
    "    \"\"\"\n",
    "    if isinstance(r, pd.DataFrame):\n",
    "        return r.aggregate(var_historic, level=level)\n",
    "    elif isinstance(r, pd.Series):\n",
    "        return -np.percentile(r, level)\n",
    "    else:\n",
    "        raise TypeError(\"Expected r to be a Series or DataFrame\")\n",
    "varheston99=var_historic(pd.Series(aa), level=0.99)\n",
    "varheston90=var_historic(pd.Series(aa), level=0.90)\n",
    "varheston60=var_historic(pd.Series(aa), level=0.60)\n",
    "print(\"varrB99:\",varheston99)\n",
    "print(\"varrB90:\",varheston90)\n",
    "print(\"varrB60:\",varheston60)"
   ]
  },
  {
   "cell_type": "code",
   "execution_count": 27,
   "metadata": {},
   "outputs": [
    {
     "name": "stdout",
     "output_type": "stream",
     "text": [
      "varBS99: 3.1900645759025505\n",
      "varBS90: 3.2686598235266073\n",
      "varBS60: 3.582694446829539\n"
     ]
    }
   ],
   "source": [
    "import pandas as pd\n",
    "def var_historic(r, level=1):\n",
    "    \"\"\"\n",
    "    Takes in a series of returns (r), and the percentage level\n",
    "(level)\n",
    "    Returns the historic Value at Risk at a specified level\n",
    "    i.e. returns the number such that \"level\" percent of the returns\n",
    "    fall below that number, and the (100-level) percent are above\n",
    "    \"\"\"\n",
    "    if isinstance(r, pd.DataFrame):\n",
    "        return r.aggregate(var_historic, level=level)\n",
    "    elif isinstance(r, pd.Series):\n",
    "        return -np.percentile(r, level)\n",
    "    else:\n",
    "        raise TypeError(\"Expected r to be a Series or DataFrame\")\n",
    "varheston99=var_historic(pd.Series(bar1_rb_ftse), level=0.99)\n",
    "varheston90=var_historic(pd.Series(bar1_rb_ftse), level=0.90)\n",
    "varheston60=var_historic(pd.Series(bar1_rb_ftse), level=0.60)\n",
    "print(\"varBS99:\",varheston99)\n",
    "print(\"varBS90:\",varheston90)\n",
    "print(\"varBS60:\",varheston60)"
   ]
  },
  {
   "cell_type": "code",
   "execution_count": 32,
   "metadata": {},
   "outputs": [
    {
     "data": {
      "text/plain": [
       "array([-1.06660774,  1.00954795])"
      ]
     },
     "execution_count": 32,
     "metadata": {},
     "output_type": "execute_result"
    }
   ],
   "source": [
    "np.percentile(bar2,[5,95])"
   ]
  },
  {
   "cell_type": "code",
   "execution_count": 35,
   "metadata": {},
   "outputs": [
    {
     "data": {
      "text/plain": [
       "0.15764152"
      ]
     },
     "execution_count": 35,
     "metadata": {},
     "output_type": "execute_result"
    }
   ],
   "source": [
    "np.mean(bar2[(bar2 > -1.06660774) & (bar2 <= 1.00954795)])"
   ]
  },
  {
   "cell_type": "code",
   "execution_count": null,
   "metadata": {},
   "outputs": [],
   "source": []
  }
 ],
 "metadata": {
  "kernelspec": {
   "display_name": "base",
   "language": "python",
   "name": "python3"
  },
  "language_info": {
   "codemirror_mode": {
    "name": "ipython",
    "version": 3
   },
   "file_extension": ".py",
   "mimetype": "text/x-python",
   "name": "python",
   "nbconvert_exporter": "python",
   "pygments_lexer": "ipython3",
   "version": "3.7.13 (default, Mar 28 2022, 03:01:27) [MSC v.1916 32 bit (Intel)]"
  },
  "orig_nbformat": 4,
  "vscode": {
   "interpreter": {
    "hash": "19d1d53a962d236aa061289c2ac16dc8e6d9648c89fe79f459ae9a3493bc67b4"
   }
  }
 },
 "nbformat": 4,
 "nbformat_minor": 2
}
