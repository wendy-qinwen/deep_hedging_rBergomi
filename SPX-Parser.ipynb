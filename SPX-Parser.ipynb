{
 "cells": [
  {
   "cell_type": "markdown",
   "metadata": {},
   "source": [
    "# SPX Raw Data Parser"
   ]
  },
  {
   "cell_type": "code",
   "execution_count": 1,
   "metadata": {},
   "outputs": [],
   "source": [
    "import os\n",
    "import numpy as np\n",
    "import pandas as pd"
   ]
  },
  {
   "cell_type": "code",
   "execution_count": 2,
   "metadata": {},
   "outputs": [],
   "source": [
    "# spot price is alongs wih the SPX prices data file, which is 2878.99 for the 9th April, 2019\n",
    "spot_price = 2878.99\n",
    "today = pd.to_datetime('20190409', format='%Y%m%d', errors='coerce')\n",
    "nb_trading_days = 365"
   ]
  },
  {
   "cell_type": "markdown",
   "metadata": {},
   "source": [
    "### Load data, compute ```M``` and ```T```"
   ]
  },
  {
   "cell_type": "code",
   "execution_count": 3,
   "metadata": {},
   "outputs": [],
   "source": [
    "raw_spx = pd.read_csv(\"./data/SPX_20190409.csv\", skiprows=2)\n",
    "raw_spx = raw_spx[raw_spx['Calls'].apply(lambda s: s.startswith('SPXW'))]\n",
    "raw_spx['Expiration Date'] =  pd.to_datetime(raw_spx['Expiration Date'], format='%m/%d/%Y')\n",
    "raw_spx['Time to Maturity (years)'] = raw_spx['Expiration Date'].apply(lambda exp_date: (exp_date-today).days/nb_trading_days)\n",
    "raw_spx['Log Moneyness'] = np.log(raw_spx['Strike']/spot_price)"
   ]
  },
  {
   "cell_type": "code",
   "execution_count": 4,
   "metadata": {},
   "outputs": [
    {
     "data": {
      "text/html": [
       "<div>\n",
       "<style scoped>\n",
       "    .dataframe tbody tr th:only-of-type {\n",
       "        vertical-align: middle;\n",
       "    }\n",
       "\n",
       "    .dataframe tbody tr th {\n",
       "        vertical-align: top;\n",
       "    }\n",
       "\n",
       "    .dataframe thead th {\n",
       "        text-align: right;\n",
       "    }\n",
       "</style>\n",
       "<table border=\"1\" class=\"dataframe\">\n",
       "  <thead>\n",
       "    <tr style=\"text-align: right;\">\n",
       "      <th></th>\n",
       "      <th>Expiration Date</th>\n",
       "      <th>Calls</th>\n",
       "      <th>Last Sale</th>\n",
       "      <th>Net</th>\n",
       "      <th>Bid</th>\n",
       "      <th>Ask</th>\n",
       "      <th>Vol</th>\n",
       "      <th>IV</th>\n",
       "      <th>Delta</th>\n",
       "      <th>Gamma</th>\n",
       "      <th>...</th>\n",
       "      <th>Net.1</th>\n",
       "      <th>Bid.1</th>\n",
       "      <th>Ask.1</th>\n",
       "      <th>Vol.1</th>\n",
       "      <th>IV.1</th>\n",
       "      <th>Delta.1</th>\n",
       "      <th>Gamma.1</th>\n",
       "      <th>Open Int.1</th>\n",
       "      <th>Time to Maturity (years)</th>\n",
       "      <th>Log Moneyness</th>\n",
       "    </tr>\n",
       "  </thead>\n",
       "  <tbody>\n",
       "    <tr>\n",
       "      <th>0</th>\n",
       "      <td>2019-04-10</td>\n",
       "      <td>SPXW190410C01700000</td>\n",
       "      <td>0.0</td>\n",
       "      <td>0.0</td>\n",
       "      <td>1173.1</td>\n",
       "      <td>1184.5</td>\n",
       "      <td>0</td>\n",
       "      <td>0.0</td>\n",
       "      <td>0.9996</td>\n",
       "      <td>0.0</td>\n",
       "      <td>...</td>\n",
       "      <td>0.0</td>\n",
       "      <td>0.0</td>\n",
       "      <td>0.05</td>\n",
       "      <td>0</td>\n",
       "      <td>2.6312</td>\n",
       "      <td>-0.0002</td>\n",
       "      <td>0.0</td>\n",
       "      <td>35</td>\n",
       "      <td>0.00274</td>\n",
       "      <td>-0.526811</td>\n",
       "    </tr>\n",
       "    <tr>\n",
       "      <th>1</th>\n",
       "      <td>2019-04-10</td>\n",
       "      <td>SPXW190410C01800000</td>\n",
       "      <td>0.0</td>\n",
       "      <td>0.0</td>\n",
       "      <td>1072.5</td>\n",
       "      <td>1083.9</td>\n",
       "      <td>0</td>\n",
       "      <td>0.0</td>\n",
       "      <td>0.9996</td>\n",
       "      <td>0.0</td>\n",
       "      <td>...</td>\n",
       "      <td>0.0</td>\n",
       "      <td>0.0</td>\n",
       "      <td>0.05</td>\n",
       "      <td>0</td>\n",
       "      <td>2.3577</td>\n",
       "      <td>-0.0002</td>\n",
       "      <td>0.0</td>\n",
       "      <td>42</td>\n",
       "      <td>0.00274</td>\n",
       "      <td>-0.469653</td>\n",
       "    </tr>\n",
       "    <tr>\n",
       "      <th>2</th>\n",
       "      <td>2019-04-10</td>\n",
       "      <td>SPXW190410C01850000</td>\n",
       "      <td>0.0</td>\n",
       "      <td>0.0</td>\n",
       "      <td>1022.6</td>\n",
       "      <td>1033.9</td>\n",
       "      <td>0</td>\n",
       "      <td>0.0</td>\n",
       "      <td>0.9992</td>\n",
       "      <td>0.0</td>\n",
       "      <td>...</td>\n",
       "      <td>0.0</td>\n",
       "      <td>0.0</td>\n",
       "      <td>0.05</td>\n",
       "      <td>0</td>\n",
       "      <td>2.2318</td>\n",
       "      <td>-0.0003</td>\n",
       "      <td>0.0</td>\n",
       "      <td>66</td>\n",
       "      <td>0.00274</td>\n",
       "      <td>-0.442254</td>\n",
       "    </tr>\n",
       "    <tr>\n",
       "      <th>3</th>\n",
       "      <td>2019-04-10</td>\n",
       "      <td>SPXW190410C01900000</td>\n",
       "      <td>0.0</td>\n",
       "      <td>0.0</td>\n",
       "      <td>972.8</td>\n",
       "      <td>984.2</td>\n",
       "      <td>0</td>\n",
       "      <td>0.0</td>\n",
       "      <td>0.9996</td>\n",
       "      <td>0.0</td>\n",
       "      <td>...</td>\n",
       "      <td>0.0</td>\n",
       "      <td>0.0</td>\n",
       "      <td>0.05</td>\n",
       "      <td>0</td>\n",
       "      <td>2.0944</td>\n",
       "      <td>-0.0003</td>\n",
       "      <td>0.0</td>\n",
       "      <td>22</td>\n",
       "      <td>0.00274</td>\n",
       "      <td>-0.415586</td>\n",
       "    </tr>\n",
       "    <tr>\n",
       "      <th>4</th>\n",
       "      <td>2019-04-10</td>\n",
       "      <td>SPXW190410C01950000</td>\n",
       "      <td>0.0</td>\n",
       "      <td>0.0</td>\n",
       "      <td>922.4</td>\n",
       "      <td>933.7</td>\n",
       "      <td>0</td>\n",
       "      <td>0.0</td>\n",
       "      <td>0.9967</td>\n",
       "      <td>0.0</td>\n",
       "      <td>...</td>\n",
       "      <td>0.0</td>\n",
       "      <td>0.0</td>\n",
       "      <td>0.05</td>\n",
       "      <td>0</td>\n",
       "      <td>1.9698</td>\n",
       "      <td>-0.0003</td>\n",
       "      <td>0.0</td>\n",
       "      <td>225</td>\n",
       "      <td>0.00274</td>\n",
       "      <td>-0.389610</td>\n",
       "    </tr>\n",
       "  </tbody>\n",
       "</table>\n",
       "<p>5 rows × 24 columns</p>\n",
       "</div>"
      ],
      "text/plain": [
       "  Expiration Date                Calls  Last Sale  Net     Bid     Ask  Vol  \\\n",
       "0      2019-04-10  SPXW190410C01700000        0.0  0.0  1173.1  1184.5    0   \n",
       "1      2019-04-10  SPXW190410C01800000        0.0  0.0  1072.5  1083.9    0   \n",
       "2      2019-04-10  SPXW190410C01850000        0.0  0.0  1022.6  1033.9    0   \n",
       "3      2019-04-10  SPXW190410C01900000        0.0  0.0   972.8   984.2    0   \n",
       "4      2019-04-10  SPXW190410C01950000        0.0  0.0   922.4   933.7    0   \n",
       "\n",
       "    IV   Delta  Gamma  ...  Net.1  Bid.1 Ask.1  Vol.1    IV.1  Delta.1  \\\n",
       "0  0.0  0.9996    0.0  ...    0.0    0.0  0.05      0  2.6312  -0.0002   \n",
       "1  0.0  0.9996    0.0  ...    0.0    0.0  0.05      0  2.3577  -0.0002   \n",
       "2  0.0  0.9992    0.0  ...    0.0    0.0  0.05      0  2.2318  -0.0003   \n",
       "3  0.0  0.9996    0.0  ...    0.0    0.0  0.05      0  2.0944  -0.0003   \n",
       "4  0.0  0.9967    0.0  ...    0.0    0.0  0.05      0  1.9698  -0.0003   \n",
       "\n",
       "   Gamma.1  Open Int.1  Time to Maturity (years)  Log Moneyness  \n",
       "0      0.0          35                   0.00274      -0.526811  \n",
       "1      0.0          42                   0.00274      -0.469653  \n",
       "2      0.0          66                   0.00274      -0.442254  \n",
       "3      0.0          22                   0.00274      -0.415586  \n",
       "4      0.0         225                   0.00274      -0.389610  \n",
       "\n",
       "[5 rows x 24 columns]"
      ]
     },
     "execution_count": 4,
     "metadata": {},
     "output_type": "execute_result"
    }
   ],
   "source": [
    "raw_spx.head()"
   ]
  },
  {
   "cell_type": "markdown",
   "metadata": {},
   "source": [
    "### Seperate ```calls``` and ```puts```, remove useless columns"
   ]
  },
  {
   "cell_type": "code",
   "execution_count": 5,
   "metadata": {},
   "outputs": [],
   "source": [
    "call_data = raw_spx.loc[:, ['Bid', 'Ask', 'IV', 'Open Int', 'Time to Maturity (years)', 'Log Moneyness', 'Strike']]\n",
    "put_data = raw_spx.loc[:, ['Bid.1', 'Ask.1', 'IV.1', 'Open Int.1', 'Time to Maturity (years)', 'Log Moneyness', 'Strike']]\n",
    "put_data.columns = call_data.columns\n",
    "\n",
    "call_data['Mid'] = (call_data['Bid'] + call_data['Ask']) / 2\n",
    "put_data['Mid'] = (put_data['Bid'] + put_data['Ask']) / 2"
   ]
  },
  {
   "cell_type": "code",
   "execution_count": 6,
   "metadata": {},
   "outputs": [
    {
     "data": {
      "text/html": [
       "<div>\n",
       "<style scoped>\n",
       "    .dataframe tbody tr th:only-of-type {\n",
       "        vertical-align: middle;\n",
       "    }\n",
       "\n",
       "    .dataframe tbody tr th {\n",
       "        vertical-align: top;\n",
       "    }\n",
       "\n",
       "    .dataframe thead th {\n",
       "        text-align: right;\n",
       "    }\n",
       "</style>\n",
       "<table border=\"1\" class=\"dataframe\">\n",
       "  <thead>\n",
       "    <tr style=\"text-align: right;\">\n",
       "      <th></th>\n",
       "      <th>Bid</th>\n",
       "      <th>Ask</th>\n",
       "      <th>IV</th>\n",
       "      <th>Open Int</th>\n",
       "      <th>Time to Maturity (years)</th>\n",
       "      <th>Log Moneyness</th>\n",
       "      <th>Strike</th>\n",
       "      <th>Mid</th>\n",
       "    </tr>\n",
       "  </thead>\n",
       "  <tbody>\n",
       "    <tr>\n",
       "      <th>0</th>\n",
       "      <td>1173.1</td>\n",
       "      <td>1184.5</td>\n",
       "      <td>0.0</td>\n",
       "      <td>0</td>\n",
       "      <td>0.00274</td>\n",
       "      <td>-0.526811</td>\n",
       "      <td>1700.0</td>\n",
       "      <td>1178.80</td>\n",
       "    </tr>\n",
       "    <tr>\n",
       "      <th>1</th>\n",
       "      <td>1072.5</td>\n",
       "      <td>1083.9</td>\n",
       "      <td>0.0</td>\n",
       "      <td>0</td>\n",
       "      <td>0.00274</td>\n",
       "      <td>-0.469653</td>\n",
       "      <td>1800.0</td>\n",
       "      <td>1078.20</td>\n",
       "    </tr>\n",
       "    <tr>\n",
       "      <th>2</th>\n",
       "      <td>1022.6</td>\n",
       "      <td>1033.9</td>\n",
       "      <td>0.0</td>\n",
       "      <td>0</td>\n",
       "      <td>0.00274</td>\n",
       "      <td>-0.442254</td>\n",
       "      <td>1850.0</td>\n",
       "      <td>1028.25</td>\n",
       "    </tr>\n",
       "    <tr>\n",
       "      <th>3</th>\n",
       "      <td>972.8</td>\n",
       "      <td>984.2</td>\n",
       "      <td>0.0</td>\n",
       "      <td>0</td>\n",
       "      <td>0.00274</td>\n",
       "      <td>-0.415586</td>\n",
       "      <td>1900.0</td>\n",
       "      <td>978.50</td>\n",
       "    </tr>\n",
       "    <tr>\n",
       "      <th>4</th>\n",
       "      <td>922.4</td>\n",
       "      <td>933.7</td>\n",
       "      <td>0.0</td>\n",
       "      <td>0</td>\n",
       "      <td>0.00274</td>\n",
       "      <td>-0.389610</td>\n",
       "      <td>1950.0</td>\n",
       "      <td>928.05</td>\n",
       "    </tr>\n",
       "  </tbody>\n",
       "</table>\n",
       "</div>"
      ],
      "text/plain": [
       "      Bid     Ask   IV  Open Int  Time to Maturity (years)  Log Moneyness  \\\n",
       "0  1173.1  1184.5  0.0         0                   0.00274      -0.526811   \n",
       "1  1072.5  1083.9  0.0         0                   0.00274      -0.469653   \n",
       "2  1022.6  1033.9  0.0         0                   0.00274      -0.442254   \n",
       "3   972.8   984.2  0.0         0                   0.00274      -0.415586   \n",
       "4   922.4   933.7  0.0         0                   0.00274      -0.389610   \n",
       "\n",
       "   Strike      Mid  \n",
       "0  1700.0  1178.80  \n",
       "1  1800.0  1078.20  \n",
       "2  1850.0  1028.25  \n",
       "3  1900.0   978.50  \n",
       "4  1950.0   928.05  "
      ]
     },
     "execution_count": 6,
     "metadata": {},
     "output_type": "execute_result"
    }
   ],
   "source": [
    "call_data.head()"
   ]
  },
  {
   "cell_type": "code",
   "execution_count": 7,
   "metadata": {},
   "outputs": [
    {
     "data": {
      "text/html": [
       "<div>\n",
       "<style scoped>\n",
       "    .dataframe tbody tr th:only-of-type {\n",
       "        vertical-align: middle;\n",
       "    }\n",
       "\n",
       "    .dataframe tbody tr th {\n",
       "        vertical-align: top;\n",
       "    }\n",
       "\n",
       "    .dataframe thead th {\n",
       "        text-align: right;\n",
       "    }\n",
       "</style>\n",
       "<table border=\"1\" class=\"dataframe\">\n",
       "  <thead>\n",
       "    <tr style=\"text-align: right;\">\n",
       "      <th></th>\n",
       "      <th>Bid</th>\n",
       "      <th>Ask</th>\n",
       "      <th>IV</th>\n",
       "      <th>Open Int</th>\n",
       "      <th>Time to Maturity (years)</th>\n",
       "      <th>Log Moneyness</th>\n",
       "      <th>Strike</th>\n",
       "      <th>Mid</th>\n",
       "    </tr>\n",
       "  </thead>\n",
       "  <tbody>\n",
       "    <tr>\n",
       "      <th>0</th>\n",
       "      <td>0.0</td>\n",
       "      <td>0.05</td>\n",
       "      <td>2.6312</td>\n",
       "      <td>35</td>\n",
       "      <td>0.00274</td>\n",
       "      <td>-0.526811</td>\n",
       "      <td>1700.0</td>\n",
       "      <td>0.025</td>\n",
       "    </tr>\n",
       "    <tr>\n",
       "      <th>1</th>\n",
       "      <td>0.0</td>\n",
       "      <td>0.05</td>\n",
       "      <td>2.3577</td>\n",
       "      <td>42</td>\n",
       "      <td>0.00274</td>\n",
       "      <td>-0.469653</td>\n",
       "      <td>1800.0</td>\n",
       "      <td>0.025</td>\n",
       "    </tr>\n",
       "    <tr>\n",
       "      <th>2</th>\n",
       "      <td>0.0</td>\n",
       "      <td>0.05</td>\n",
       "      <td>2.2318</td>\n",
       "      <td>66</td>\n",
       "      <td>0.00274</td>\n",
       "      <td>-0.442254</td>\n",
       "      <td>1850.0</td>\n",
       "      <td>0.025</td>\n",
       "    </tr>\n",
       "    <tr>\n",
       "      <th>3</th>\n",
       "      <td>0.0</td>\n",
       "      <td>0.05</td>\n",
       "      <td>2.0944</td>\n",
       "      <td>22</td>\n",
       "      <td>0.00274</td>\n",
       "      <td>-0.415586</td>\n",
       "      <td>1900.0</td>\n",
       "      <td>0.025</td>\n",
       "    </tr>\n",
       "    <tr>\n",
       "      <th>4</th>\n",
       "      <td>0.0</td>\n",
       "      <td>0.05</td>\n",
       "      <td>1.9698</td>\n",
       "      <td>225</td>\n",
       "      <td>0.00274</td>\n",
       "      <td>-0.389610</td>\n",
       "      <td>1950.0</td>\n",
       "      <td>0.025</td>\n",
       "    </tr>\n",
       "  </tbody>\n",
       "</table>\n",
       "</div>"
      ],
      "text/plain": [
       "   Bid   Ask      IV  Open Int  Time to Maturity (years)  Log Moneyness  \\\n",
       "0  0.0  0.05  2.6312        35                   0.00274      -0.526811   \n",
       "1  0.0  0.05  2.3577        42                   0.00274      -0.469653   \n",
       "2  0.0  0.05  2.2318        66                   0.00274      -0.442254   \n",
       "3  0.0  0.05  2.0944        22                   0.00274      -0.415586   \n",
       "4  0.0  0.05  1.9698       225                   0.00274      -0.389610   \n",
       "\n",
       "   Strike    Mid  \n",
       "0  1700.0  0.025  \n",
       "1  1800.0  0.025  \n",
       "2  1850.0  0.025  \n",
       "3  1900.0  0.025  \n",
       "4  1950.0  0.025  "
      ]
     },
     "execution_count": 7,
     "metadata": {},
     "output_type": "execute_result"
    }
   ],
   "source": [
    "put_data.head()"
   ]
  },
  {
   "cell_type": "markdown",
   "metadata": {},
   "source": [
    "### Store the processed calls and puts data to local file"
   ]
  },
  {
   "cell_type": "code",
   "execution_count": 8,
   "metadata": {},
   "outputs": [],
   "source": [
    "call_data.to_csv(\"./data/processed_spx_calls_all_liquids.csv\")\n",
    "put_data.to_csv(\"./data/processed_spx_puts_all_liquids.csv\")"
   ]
  },
  {
   "cell_type": "markdown",
   "metadata": {},
   "source": [
    "----------"
   ]
  },
  {
   "cell_type": "markdown",
   "metadata": {},
   "source": [
    "## Liquidity filtration"
   ]
  },
  {
   "cell_type": "markdown",
   "metadata": {},
   "source": [
    "Filter the retrieved data and remove some non-liquid rows according to two information:\n",
    "- ```Open Interests```\n",
    "- Difference between ```Ask``` and ```Bid```"
   ]
  },
  {
   "cell_type": "code",
   "execution_count": 9,
   "metadata": {},
   "outputs": [],
   "source": [
    "import matplotlib.pyplot as plt\n",
    "import seaborn as sns\n",
    "from matplotlib.ticker import StrMethodFormatter"
   ]
  },
  {
   "cell_type": "code",
   "execution_count": 10,
   "metadata": {},
   "outputs": [],
   "source": [
    "call_data = call_data[call_data['Open Int']!=0]\n",
    "put_data = put_data[put_data['Open Int']!=0]\n",
    "\n",
    "call_data['Inv Spread'] = 1. / (call_data['Ask'] - call_data['Bid'])\n",
    "put_data['Inv Spread'] = 1. / (put_data['Ask'] - put_data['Bid'])"
   ]
  },
  {
   "cell_type": "code",
   "execution_count": 11,
   "metadata": {},
   "outputs": [],
   "source": [
    "def plot_heatmap(data, values='Inv Spread'):\n",
    "    \"\"\"Plots the heatmap of the `values` column of a data frame \n",
    "    with respect to `Time to Maturity (years)` and `Log Moneyness`.\n",
    "    \"\"\"\n",
    "    data_sort = data.sort_values(values, ascending=True)\n",
    "    data_pivot = data_sort.pivot(index='Time to Maturity (years)', columns='Log Moneyness', values=values)\n",
    "    plt.figure(figsize=(10, 6))\n",
    "    ax = sns.heatmap(data_pivot, cmap=plt.cm.Spectral, cbar=True, xticklabels=df_pivot.columns.values.round(2), yticklabels=df_pivot.index.values.round(2))\n",
    "    ax.invert_yaxis()\n",
    "    plt.tight_layout()\n",
    "    plt.show()"
   ]
  },
  {
   "cell_type": "code",
   "execution_count": 12,
   "metadata": {},
   "outputs": [
    {
     "data": {
      "image/png": "[encoded data removed]",
      "text/plain": [
       "<Figure size 720x432 with 2 Axes>"
      ]
     },
     "metadata": {
      "needs_background": "light"
     },
     "output_type": "display_data"
    }
   ],
   "source": [
    "plot_heatmap(call_data, 'Inv Spread')"
   ]
  },
  {
   "cell_type": "code",
   "execution_count": 13,
   "metadata": {},
   "outputs": [
    {
     "data": {
      "image/png": "[encoded data removed]",
      "text/plain": [
       "<Figure size 720x432 with 2 Axes>"
      ]
     },
     "metadata": {
      "needs_background": "light"
     },
     "output_type": "display_data"
    }
   ],
   "source": [
    "plot_heatmap(put_data, 'Inv Spread')"
   ]
  },
  {
   "cell_type": "markdown",
   "metadata": {},
   "source": [
    "**Observation**:\n",
    "\n",
    "The liquidity is localized in a small region. According the proposition in the paper, we consider only the region:\n",
    "\n",
    "- $-0.1 \\leq \\text{Log Moneyness} \\leq 0.28$\n",
    "\n",
    "- $\\frac{1}{365} \\leq \\text{Time to Maturity} \\leq 0.2$"
   ]
  },
  {
   "cell_type": "code",
   "execution_count": 14,
   "metadata": {
    "scrolled": false
   },
   "outputs": [
    {
     "data": {
      "image/png": "[encoded data removed]",
      "text/plain": [
       "<Figure size 720x432 with 2 Axes>"
      ]
     },
     "metadata": {
      "needs_background": "light"
     },
     "output_type": "display_data"
    }
   ],
   "source": [
    "liquid_criterion = (-0.1 <= call_data['Log Moneyness']) & (call_data['Log Moneyness'] <= 0.28) & (1/365 <= call_data['Time to Maturity (years)']) & (call_data['Time to Maturity (years)'] <= 0.2)\n",
    "call_data_liquid = call_data[liquid_criterion].copy()\n",
    "plot_heatmap(call_data_liquid, 'Inv Spread')"
   ]
  },
  {
   "cell_type": "code",
   "execution_count": 15,
   "metadata": {},
   "outputs": [
    {
     "data": {
      "text/html": [
       "<div>\n",
       "<style scoped>\n",
       "    .dataframe tbody tr th:only-of-type {\n",
       "        vertical-align: middle;\n",
       "    }\n",
       "\n",
       "    .dataframe tbody tr th {\n",
       "        vertical-align: top;\n",
       "    }\n",
       "\n",
       "    .dataframe thead th {\n",
       "        text-align: right;\n",
       "    }\n",
       "</style>\n",
       "<table border=\"1\" class=\"dataframe\">\n",
       "  <thead>\n",
       "    <tr style=\"text-align: right;\">\n",
       "      <th></th>\n",
       "      <th>Bid</th>\n",
       "      <th>Ask</th>\n",
       "      <th>IV</th>\n",
       "      <th>Open Int</th>\n",
       "      <th>Time to Maturity (years)</th>\n",
       "      <th>Log Moneyness</th>\n",
       "      <th>Strike</th>\n",
       "      <th>Mid</th>\n",
       "      <th>Inv Spread</th>\n",
       "    </tr>\n",
       "  </thead>\n",
       "  <tbody>\n",
       "    <tr>\n",
       "      <th>112</th>\n",
       "      <td>0.1</td>\n",
       "      <td>0.15</td>\n",
       "      <td>0.1159</td>\n",
       "      <td>2390</td>\n",
       "      <td>0.002740</td>\n",
       "      <td>0.014144</td>\n",
       "      <td>2920.0</td>\n",
       "      <td>0.125</td>\n",
       "      <td>20.0</td>\n",
       "    </tr>\n",
       "    <tr>\n",
       "      <th>1274</th>\n",
       "      <td>0.0</td>\n",
       "      <td>0.05</td>\n",
       "      <td>0.1710</td>\n",
       "      <td>1</td>\n",
       "      <td>0.024658</td>\n",
       "      <td>0.083593</td>\n",
       "      <td>3130.0</td>\n",
       "      <td>0.025</td>\n",
       "      <td>20.0</td>\n",
       "    </tr>\n",
       "    <tr>\n",
       "      <th>132</th>\n",
       "      <td>0.0</td>\n",
       "      <td>0.05</td>\n",
       "      <td>0.2826</td>\n",
       "      <td>10</td>\n",
       "      <td>0.002740</td>\n",
       "      <td>0.047817</td>\n",
       "      <td>3020.0</td>\n",
       "      <td>0.025</td>\n",
       "      <td>20.0</td>\n",
       "    </tr>\n",
       "    <tr>\n",
       "      <th>338</th>\n",
       "      <td>0.0</td>\n",
       "      <td>0.05</td>\n",
       "      <td>0.1242</td>\n",
       "      <td>9309</td>\n",
       "      <td>0.008219</td>\n",
       "      <td>0.032805</td>\n",
       "      <td>2975.0</td>\n",
       "      <td>0.025</td>\n",
       "      <td>20.0</td>\n",
       "    </tr>\n",
       "    <tr>\n",
       "      <th>525</th>\n",
       "      <td>0.0</td>\n",
       "      <td>0.05</td>\n",
       "      <td>0.2223</td>\n",
       "      <td>3</td>\n",
       "      <td>0.016438</td>\n",
       "      <td>0.089963</td>\n",
       "      <td>3150.0</td>\n",
       "      <td>0.025</td>\n",
       "      <td>20.0</td>\n",
       "    </tr>\n",
       "  </tbody>\n",
       "</table>\n",
       "</div>"
      ],
      "text/plain": [
       "      Bid   Ask      IV  Open Int  Time to Maturity (years)  Log Moneyness  \\\n",
       "112   0.1  0.15  0.1159      2390                  0.002740       0.014144   \n",
       "1274  0.0  0.05  0.1710         1                  0.024658       0.083593   \n",
       "132   0.0  0.05  0.2826        10                  0.002740       0.047817   \n",
       "338   0.0  0.05  0.1242      9309                  0.008219       0.032805   \n",
       "525   0.0  0.05  0.2223         3                  0.016438       0.089963   \n",
       "\n",
       "      Strike    Mid  Inv Spread  \n",
       "112   2920.0  0.125        20.0  \n",
       "1274  3130.0  0.025        20.0  \n",
       "132   3020.0  0.025        20.0  \n",
       "338   2975.0  0.025        20.0  \n",
       "525   3150.0  0.025        20.0  "
      ]
     },
     "execution_count": 15,
     "metadata": {},
     "output_type": "execute_result"
    }
   ],
   "source": [
    "call_data_liquid.sort_values('Inv Spread', inplace=True, ascending=False)\n",
    "call_data_liquid.to_csv(\"./data/spx_liquid_calls.csv\")\n",
    "call_data_liquid.head()"
   ]
  },
  {
   "cell_type": "code",
   "execution_count": 16,
   "metadata": {},
   "outputs": [],
   "source": [
    "mat_vals = call_data_liquid['Time to Maturity (years)'].unique()"
   ]
  },
  {
   "cell_type": "code",
   "execution_count": 17,
   "metadata": {},
   "outputs": [
    {
     "data": {
      "text/plain": [
       "<matplotlib.axes._subplots.AxesSubplot at 0x2449598afd0>"
      ]
     },
     "execution_count": 17,
     "metadata": {},
     "output_type": "execute_result"
    },
    {
     "data": {
      "image/png": "[encoded data removed]",
      "text/plain": [
       "<Figure size 432x288 with 1 Axes>"
      ]
     },
     "metadata": {
      "needs_background": "light"
     },
     "output_type": "display_data"
    }
   ],
   "source": [
    "call_data_liquid[call_data_liquid['Time to Maturity (years)'] == mat_vals[0]].plot(x='Log Moneyness', y='Mid')"
   ]
  },
  {
   "cell_type": "markdown",
   "metadata": {},
   "source": [
    "## $\\mathcal{K}_{(M, T)}$ distribution estimation"
   ]
  },
  {
   "cell_type": "markdown",
   "metadata": {},
   "source": [
    "Load the previously processed call options data"
   ]
  },
  {
   "cell_type": "code",
   "execution_count": 18,
   "metadata": {},
   "outputs": [
    {
     "data": {
      "text/html": [
       "<div>\n",
       "<style scoped>\n",
       "    .dataframe tbody tr th:only-of-type {\n",
       "        vertical-align: middle;\n",
       "    }\n",
       "\n",
       "    .dataframe tbody tr th {\n",
       "        vertical-align: top;\n",
       "    }\n",
       "\n",
       "    .dataframe thead th {\n",
       "        text-align: right;\n",
       "    }\n",
       "</style>\n",
       "<table border=\"1\" class=\"dataframe\">\n",
       "  <thead>\n",
       "    <tr style=\"text-align: right;\">\n",
       "      <th></th>\n",
       "      <th>Bid</th>\n",
       "      <th>Ask</th>\n",
       "      <th>IV</th>\n",
       "      <th>Open Int</th>\n",
       "      <th>Time to Maturity (years)</th>\n",
       "      <th>Log Moneyness</th>\n",
       "      <th>Strike</th>\n",
       "      <th>Mid</th>\n",
       "    </tr>\n",
       "  </thead>\n",
       "  <tbody>\n",
       "    <tr>\n",
       "      <th>0</th>\n",
       "      <td>1173.1</td>\n",
       "      <td>1184.5</td>\n",
       "      <td>0.0</td>\n",
       "      <td>0</td>\n",
       "      <td>0.00274</td>\n",
       "      <td>-0.526811</td>\n",
       "      <td>1700.0</td>\n",
       "      <td>1178.80</td>\n",
       "    </tr>\n",
       "    <tr>\n",
       "      <th>1</th>\n",
       "      <td>1072.5</td>\n",
       "      <td>1083.9</td>\n",
       "      <td>0.0</td>\n",
       "      <td>0</td>\n",
       "      <td>0.00274</td>\n",
       "      <td>-0.469653</td>\n",
       "      <td>1800.0</td>\n",
       "      <td>1078.20</td>\n",
       "    </tr>\n",
       "    <tr>\n",
       "      <th>2</th>\n",
       "      <td>1022.6</td>\n",
       "      <td>1033.9</td>\n",
       "      <td>0.0</td>\n",
       "      <td>0</td>\n",
       "      <td>0.00274</td>\n",
       "      <td>-0.442254</td>\n",
       "      <td>1850.0</td>\n",
       "      <td>1028.25</td>\n",
       "    </tr>\n",
       "    <tr>\n",
       "      <th>3</th>\n",
       "      <td>972.8</td>\n",
       "      <td>984.2</td>\n",
       "      <td>0.0</td>\n",
       "      <td>0</td>\n",
       "      <td>0.00274</td>\n",
       "      <td>-0.415586</td>\n",
       "      <td>1900.0</td>\n",
       "      <td>978.50</td>\n",
       "    </tr>\n",
       "    <tr>\n",
       "      <th>4</th>\n",
       "      <td>922.4</td>\n",
       "      <td>933.7</td>\n",
       "      <td>0.0</td>\n",
       "      <td>0</td>\n",
       "      <td>0.00274</td>\n",
       "      <td>-0.389610</td>\n",
       "      <td>1950.0</td>\n",
       "      <td>928.05</td>\n",
       "    </tr>\n",
       "  </tbody>\n",
       "</table>\n",
       "</div>"
      ],
      "text/plain": [
       "      Bid     Ask   IV  Open Int  Time to Maturity (years)  Log Moneyness  \\\n",
       "0  1173.1  1184.5  0.0         0                   0.00274      -0.526811   \n",
       "1  1072.5  1083.9  0.0         0                   0.00274      -0.469653   \n",
       "2  1022.6  1033.9  0.0         0                   0.00274      -0.442254   \n",
       "3   972.8   984.2  0.0         0                   0.00274      -0.415586   \n",
       "4   922.4   933.7  0.0         0                   0.00274      -0.389610   \n",
       "\n",
       "   Strike      Mid  \n",
       "0  1700.0  1178.80  \n",
       "1  1800.0  1078.20  \n",
       "2  1850.0  1028.25  \n",
       "3  1900.0   978.50  \n",
       "4  1950.0   928.05  "
      ]
     },
     "execution_count": 18,
     "metadata": {},
     "output_type": "execute_result"
    }
   ],
   "source": [
    "data = pd.read_csv(\"./data/processed_spx_calls_all_liquids.csv\", index_col=0)\n",
    "data.head()"
   ]
  },
  {
   "cell_type": "markdown",
   "metadata": {},
   "source": [
    "Count the ```Open Interests``` of each option"
   ]
  },
  {
   "cell_type": "code",
   "execution_count": 19,
   "metadata": {},
   "outputs": [],
   "source": [
    "total_interest = data['Open Int'].sum()\n",
    "interests = pd.DataFrame(index=np.arange(total_interest), columns=['Time to Maturity (years)', 'Log Moneyness'], dtype=float)\n",
    "\n",
    "counter = 0\n",
    "for idx in data.index:\n",
    "    num_int = data.loc[idx, 'Open Int']\n",
    "    end_counter = counter + num_int\n",
    "    interests.iloc[counter:end_counter, :] = data.loc[idx, ['Time to Maturity (years)', 'Log Moneyness']].values\n",
    "    counter = end_counter"
   ]
  },
  {
   "cell_type": "code",
   "execution_count": 20,
   "metadata": {},
   "outputs": [
    {
     "data": {
      "text/html": [
       "<div>\n",
       "<style scoped>\n",
       "    .dataframe tbody tr th:only-of-type {\n",
       "        vertical-align: middle;\n",
       "    }\n",
       "\n",
       "    .dataframe tbody tr th {\n",
       "        vertical-align: top;\n",
       "    }\n",
       "\n",
       "    .dataframe thead th {\n",
       "        text-align: right;\n",
       "    }\n",
       "</style>\n",
       "<table border=\"1\" class=\"dataframe\">\n",
       "  <thead>\n",
       "    <tr style=\"text-align: right;\">\n",
       "      <th></th>\n",
       "      <th>Time to Maturity (years)</th>\n",
       "      <th>Log Moneyness</th>\n",
       "    </tr>\n",
       "  </thead>\n",
       "  <tbody>\n",
       "    <tr>\n",
       "      <th>0</th>\n",
       "      <td>0.00274</td>\n",
       "      <td>-0.364292</td>\n",
       "    </tr>\n",
       "    <tr>\n",
       "      <th>1</th>\n",
       "      <td>0.00274</td>\n",
       "      <td>-0.186146</td>\n",
       "    </tr>\n",
       "    <tr>\n",
       "      <th>2</th>\n",
       "      <td>0.00274</td>\n",
       "      <td>-0.151199</td>\n",
       "    </tr>\n",
       "    <tr>\n",
       "      <th>3</th>\n",
       "      <td>0.00274</td>\n",
       "      <td>-0.151199</td>\n",
       "    </tr>\n",
       "    <tr>\n",
       "      <th>4</th>\n",
       "      <td>0.00274</td>\n",
       "      <td>-0.131198</td>\n",
       "    </tr>\n",
       "  </tbody>\n",
       "</table>\n",
       "</div>"
      ],
      "text/plain": [
       "   Time to Maturity (years)  Log Moneyness\n",
       "0                   0.00274      -0.364292\n",
       "1                   0.00274      -0.186146\n",
       "2                   0.00274      -0.151199\n",
       "3                   0.00274      -0.151199\n",
       "4                   0.00274      -0.131198"
      ]
     },
     "execution_count": 20,
     "metadata": {},
     "output_type": "execute_result"
    }
   ],
   "source": [
    "interests.head()"
   ]
  },
  {
   "cell_type": "markdown",
   "metadata": {},
   "source": [
    "Visualize the joint distribution of $\\mathcal{K}_{(m, T)}$, $m$ is the log-moneyness"
   ]
  },
  {
   "cell_type": "code",
   "execution_count": 162,
   "metadata": {},
   "outputs": [
    {
     "data": {
      "image/png": "[encoded data removed]",
      "text/plain": [
       "<Figure size 432x288 with 2 Axes>"
      ]
     },
     "metadata": {
      "needs_background": "light"
     },
     "output_type": "display_data"
    }
   ],
   "source": [
    "fig, ax = plt.subplots()\n",
    "ax.set_title(\"Bivariate distribution estimation of log-moneyness and time-to-maturity\")\n",
    "x = interests['Log Moneyness'].values\n",
    "y = interests['Time to Maturity (years)'].values\n",
    "ax = sns.kdeplot(x, y, cbar=True, shade=True, shade_lowest=False, cmap='BuPu')"
   ]
  },
  {
   "cell_type": "markdown",
   "metadata": {},
   "source": [
    "User scikit-learn KDE to estimate the joint distribution of $\\mathcal{K}_{(m,T)}$"
   ]
  },
  {
   "cell_type": "code",
   "execution_count": 27,
   "metadata": {},
   "outputs": [],
   "source": [
    "import sys\n",
    "from sklearn.neighbors import KernelDensity\n",
    "from sklearn.model_selection import GridSearchCV\n",
    "import statsmodels.nonparametric.api as smnp"
   ]
  },
  {
   "cell_type": "code",
   "execution_count": 24,
   "metadata": {},
   "outputs": [],
   "source": [
    "K_T = data[['Time to Maturity (years)', 'Log Moneyness']].values\n",
    "K_T[:, 1] = np.exp(K_T[:, 1])"
   ]
  },
  {
   "cell_type": "code",
   "execution_count": 29,
   "metadata": {
    "scrolled": true
   },
   "outputs": [
    {
     "name": "stdout",
     "output_type": "stream",
     "text": [
      "Fitting 5 folds for each of 5 candidates, totalling 25 fits\n",
      "[Parallel(n_jobs=-1)]: Using backend LokyBackend with 4 concurrent workers.\n",
      "Pickling array (shape=(4842, 2), dtype=float64).\n",
      "Pickling array (shape=(3873,), dtype=int32).\n",
      "Pickling array (shape=(969,), dtype=int32).\n",
      "Pickling array (shape=(4842, 2), dtype=float64).\n",
      "Pickling array (shape=(3873,), dtype=int32).\n",
      "Pickling array (shape=(969,), dtype=int32).\n",
      "Pickling array (shape=(4842, 2), dtype=float64).\n",
      "Pickling array (shape=(3874,), dtype=int32).\n",
      "Pickling array (shape=(968,), dtype=int32).\n",
      "Pickling array (shape=(4842, 2), dtype=float64).\n",
      "Pickling array (shape=(3874,), dtype=int32).\n",
      "Pickling array (shape=(968,), dtype=int32).\n",
      "Pickling array (shape=(4842, 2), dtype=float64).\n",
      "Pickling array (shape=(3874,), dtype=int32).\n",
      "Pickling array (shape=(968,), dtype=int32).\n",
      "[Parallel(n_jobs=-1)]: Done   1 tasks      | elapsed:    0.6s\n",
      "Pickling array (shape=(4842, 2), dtype=float64).\n",
      "Pickling array (shape=(3873,), dtype=int32).\n",
      "Pickling array (shape=(969,), dtype=int32).\n",
      "[Parallel(n_jobs=-1)]: Done   2 tasks      | elapsed:    0.7s\n",
      "Pickling array (shape=(4842, 2), dtype=float64).\n",
      "Pickling array (shape=(3873,), dtype=int32).\n",
      "Pickling array (shape=(969,), dtype=int32).\n",
      "Pickling array (shape=(4842, 2), dtype=float64).[Parallel(n_jobs=-1)]: Done   3 tasks      | elapsed:    0.7s\n",
      "\n",
      "Pickling array (shape=(3874,), dtype=int32).\n",
      "Pickling array (shape=(968,), dtype=int32).\n",
      "[Parallel(n_jobs=-1)]: Done   4 tasks      | elapsed:    0.7s\n",
      "Pickling array (shape=(4842, 2), dtype=float64).\n",
      "Pickling array (shape=(3874,), dtype=int32).\n",
      "Pickling array (shape=(968,), dtype=int32).\n",
      "[Parallel(n_jobs=-1)]: Done   5 tasks      | elapsed:    1.5s\n",
      "Pickling array (shape=(4842, 2), dtype=float64).\n",
      "Pickling array (shape=(3874,), dtype=int32).\n",
      "Pickling array (shape=(968,), dtype=int32).\n",
      "[Parallel(n_jobs=-1)]: Done   6 tasks      | elapsed:    2.0s\n",
      "Pickling array (shape=(4842, 2), dtype=float64).\n",
      "Pickling array (shape=(3873,), dtype=int32).\n",
      "Pickling array (shape=(969,), dtype=int32).\n",
      "[Parallel(n_jobs=-1)]: Done   7 tasks      | elapsed:    2.1s\n",
      "Pickling array (shape=(4842, 2), dtype=float64).\n",
      "Pickling array (shape=(3873,), dtype=int32).\n",
      "Pickling array (shape=(969,), dtype=int32).\n",
      "[Parallel(n_jobs=-1)]: Done   8 tasks      | elapsed:    2.1s\n",
      "Pickling array (shape=(4842, 2), dtype=float64).\n",
      "Pickling array (shape=(3874,), dtype=int32).\n",
      "Pickling array (shape=(968,), dtype=int32).\n",
      "[Parallel(n_jobs=-1)]: Done   9 tasks      | elapsed:    2.7s\n",
      "Pickling array (shape=(4842, 2), dtype=float64).\n",
      "Pickling array (shape=(3874,), dtype=int32).\n",
      "Pickling array (shape=(968,), dtype=int32).\n",
      "Pickling array (shape=(4842, 2), dtype=float64).\n",
      "Pickling array (shape=(3874,), dtype=int32).\n",
      "Pickling array (shape=(968,), dtype=int32).\n",
      "[Parallel(n_jobs=-1)]: Done  10 tasks      | elapsed:    3.1s\n",
      "Pickling array (shape=(4842, 2), dtype=float64).\n",
      "Pickling array (shape=(3873,), dtype=int32).\n",
      "Pickling array (shape=(969,), dtype=int32).\n",
      "[Parallel(n_jobs=-1)]: Done  11 tasks      | elapsed:    3.1s\n",
      "[Parallel(n_jobs=-1)]: Done  12 tasks      | elapsed:    3.3s\n",
      "Pickling array (shape=(4842, 2), dtype=float64).\n",
      "Pickling array (shape=(3873,), dtype=int32).\n",
      "Pickling array (shape=(969,), dtype=int32).\n",
      "[Parallel(n_jobs=-1)]: Done  13 tasks      | elapsed:    3.8s\n",
      "Pickling array (shape=(4842, 2), dtype=float64).\n",
      "Pickling array (shape=(3874,), dtype=int32).\n",
      "Pickling array (shape=(968,), dtype=int32).\n",
      "Pickling array (shape=(4842, 2), dtype=float64).[Parallel(n_jobs=-1)]: Done  14 tasks      | elapsed:    4.2s\n",
      "\n",
      "Pickling array (shape=(3874,), dtype=int32).\n",
      "Pickling array (shape=(968,), dtype=int32).\n",
      "Pickling array (shape=(4842, 2), dtype=float64).[Parallel(n_jobs=-1)]: Done  15 tasks      | elapsed:    4.3s\n",
      "\n",
      "Pickling array (shape=(3874,), dtype=int32).\n",
      "Pickling array (shape=(968,), dtype=int32).\n",
      "[Parallel(n_jobs=-1)]: Done  16 tasks      | elapsed:    4.8s\n",
      "Pickling array (shape=(4842, 2), dtype=float64).\n",
      "Pickling array (shape=(3873,), dtype=int32).\n",
      "Pickling array (shape=(969,), dtype=int32).\n",
      "[Parallel(n_jobs=-1)]: Done  17 tasks      | elapsed:    5.2s\n",
      "Pickling array (shape=(4842, 2), dtype=float64).\n",
      "Pickling array (shape=(3873,), dtype=int32).\n",
      "Pickling array (shape=(969,), dtype=int32).\n",
      "Pickling array (shape=(4842, 2), dtype=float64).[Parallel(n_jobs=-1)]: Done  18 tasks      | elapsed:    5.7s\n",
      "\n",
      "Pickling array (shape=(3874,), dtype=int32).\n",
      "Pickling array (shape=(968,), dtype=int32).\n",
      "[Parallel(n_jobs=-1)]: Done  19 out of  25 | elapsed:    5.7s remaining:    1.7s\n",
      "Pickling array (shape=(4842, 2), dtype=float64).\n",
      "Pickling array (shape=(3874,), dtype=int32).\n",
      "Pickling array (shape=(968,), dtype=int32).\n",
      "[Parallel(n_jobs=-1)]: Done  20 out of  25 | elapsed:    6.4s remaining:    1.5s\n",
      "Pickling array (shape=(4842, 2), dtype=float64).\n",
      "Pickling array (shape=(3874,), dtype=int32).\n",
      "Pickling array (shape=(968,), dtype=int32).\n",
      "[Parallel(n_jobs=-1)]: Done  21 out of  25 | elapsed:    6.9s remaining:    1.2s\n",
      "[Parallel(n_jobs=-1)]: Done  22 out of  25 | elapsed:    7.5s remaining:    0.9s\n",
      "[Parallel(n_jobs=-1)]: Done  23 out of  25 | elapsed:    7.5s remaining:    0.6s\n",
      "[Parallel(n_jobs=-1)]: Done  25 out of  25 | elapsed:    8.5s remaining:    0.0s\n",
      "[Parallel(n_jobs=-1)]: Done  25 out of  25 | elapsed:    8.5s finished\n"
     ]
    },
    {
     "data": {
      "text/plain": [
       "GridSearchCV(cv=5, error_score='raise-deprecating',\n",
       "       estimator=KernelDensity(algorithm='auto', atol=0, bandwidth=1.0, breadth_first=True,\n",
       "       kernel='gaussian', leaf_size=40, metric='euclidean',\n",
       "       metric_params=None, rtol=0),\n",
       "       fit_params=None, iid='warn', n_jobs=-1,\n",
       "       param_grid={'bandwidth': array([0.001  , 0.00316, 0.01   , 0.03162, 0.1    ])},\n",
       "       pre_dispatch='2*n_jobs', refit=True, return_train_score='warn',\n",
       "       scoring=None, verbose=9223372036854775807)"
      ]
     },
     "execution_count": 29,
     "metadata": {},
     "output_type": "execute_result"
    }
   ],
   "source": [
    "# grid search cv for best bandwidth\n",
    "params = {'bandwidth': np.logspace(-3, -1, 5)}\n",
    "grid = GridSearchCV(KernelDensity(), params, verbose=sys.maxsize, n_jobs=-1, cv=5)\n",
    "grid.fit(K_T)"
   ]
  },
  {
   "cell_type": "code",
   "execution_count": 32,
   "metadata": {},
   "outputs": [
    {
     "data": {
      "text/plain": [
       "KernelDensity(algorithm='auto', atol=0, bandwidth=0.1, breadth_first=True,\n",
       "       kernel='gaussian', leaf_size=40, metric='euclidean',\n",
       "       metric_params=None, rtol=0)"
      ]
     },
     "execution_count": 32,
     "metadata": {},
     "output_type": "execute_result"
    }
   ],
   "source": [
    "kde = grid.best_estimator_\n",
    "kde.fit(K_T)"
   ]
  },
  {
   "cell_type": "markdown",
   "metadata": {},
   "source": [
    "**Comments**:\n",
    "\n",
    "Until now, we obtain the joint distribution of $\\mathcal{K}_{(m,T)}$. We can now draw pairs of $(m,T)$ from this distribution.\n",
    "\n",
    "----------"
   ]
  },
  {
   "cell_type": "markdown",
   "metadata": {},
   "source": [
    "Draw $(m,T)$ pairs from the estimated distribution"
   ]
  },
  {
   "cell_type": "code",
   "execution_count": 49,
   "metadata": {},
   "outputs": [],
   "source": [
    "from IPython.display import display, clear_output"
   ]
  },
  {
   "cell_type": "code",
   "execution_count": 50,
   "metadata": {},
   "outputs": [
    {
     "data": {
      "text/plain": [
       "'Generated 999999 valid samples'"
      ]
     },
     "metadata": {},
     "output_type": "display_data"
    }
   ],
   "source": [
    "n_samples = int(1e6)\n",
    "\n",
    "generated_K_T = pd.DataFrame(index=np.arange(n_samples), columns=['Moneyness', 'Time to Maturity (years)'], dtype=float)\n",
    "\n",
    "counter = 0\n",
    "\n",
    "while counter < n_samples:\n",
    "    clear_output()\n",
    "    display(\"Generated {}% valid samples\".format(counter/n_samples * 100))\n",
    "    still_need = n_samples - counter\n",
    "    samples = kde.sample(still_need)\n",
    "    is_valid = (samples[:, 0] > 0.75) & (samples[:, 0] < 1.2) & (samples[:, 1] > 0) & (samples[:, 1] < 0.25)\n",
    "    valid_samples = samples[is_valid]\n",
    "    n_valid = len(valid_samples)\n",
    "    new_counter = counter + n_valid\n",
    "    generated_K_T.iloc[counter:new_counter, :] = valid_samples\n",
    "    counter = new_counter"
   ]
  },
  {
   "cell_type": "code",
   "execution_count": 55,
   "metadata": {},
   "outputs": [
    {
     "data": {
      "text/plain": [
       "(1000000, 2)"
      ]
     },
     "execution_count": 55,
     "metadata": {},
     "output_type": "execute_result"
    }
   ],
   "source": [
    "generated_K_T.shape"
   ]
  },
  {
   "cell_type": "code",
   "execution_count": 54,
   "metadata": {},
   "outputs": [
    {
     "data": {
      "text/html": [
       "<div>\n",
       "<style scoped>\n",
       "    .dataframe tbody tr th:only-of-type {\n",
       "        vertical-align: middle;\n",
       "    }\n",
       "\n",
       "    .dataframe tbody tr th {\n",
       "        vertical-align: top;\n",
       "    }\n",
       "\n",
       "    .dataframe thead th {\n",
       "        text-align: right;\n",
       "    }\n",
       "</style>\n",
       "<table border=\"1\" class=\"dataframe\">\n",
       "  <thead>\n",
       "    <tr style=\"text-align: right;\">\n",
       "      <th></th>\n",
       "      <th>Moneyness</th>\n",
       "      <th>Time to Maturity (years)</th>\n",
       "    </tr>\n",
       "  </thead>\n",
       "  <tbody>\n",
       "    <tr>\n",
       "      <th>0</th>\n",
       "      <td>0.820165</td>\n",
       "      <td>0.219184</td>\n",
       "    </tr>\n",
       "    <tr>\n",
       "      <th>1</th>\n",
       "      <td>0.926490</td>\n",
       "      <td>0.212487</td>\n",
       "    </tr>\n",
       "    <tr>\n",
       "      <th>2</th>\n",
       "      <td>0.834318</td>\n",
       "      <td>0.190719</td>\n",
       "    </tr>\n",
       "    <tr>\n",
       "      <th>3</th>\n",
       "      <td>1.053977</td>\n",
       "      <td>0.226441</td>\n",
       "    </tr>\n",
       "    <tr>\n",
       "      <th>4</th>\n",
       "      <td>0.802749</td>\n",
       "      <td>0.208923</td>\n",
       "    </tr>\n",
       "  </tbody>\n",
       "</table>\n",
       "</div>"
      ],
      "text/plain": [
       "   Moneyness  Time to Maturity (years)\n",
       "0   0.820165                  0.219184\n",
       "1   0.926490                  0.212487\n",
       "2   0.834318                  0.190719\n",
       "3   1.053977                  0.226441\n",
       "4   0.802749                  0.208923"
      ]
     },
     "execution_count": 54,
     "metadata": {},
     "output_type": "execute_result"
    }
   ],
   "source": [
    "generated_K_T.head()"
   ]
  },
  {
   "cell_type": "markdown",
   "metadata": {},
   "source": [
    "Store the generated $(m,T)$ pairs to local file for later use."
   ]
  },
  {
   "cell_type": "code",
   "execution_count": 56,
   "metadata": {},
   "outputs": [],
   "source": [
    "generated_K_T.to_csv(\"./data/strike_maturity.csv\")"
   ]
  },
  {
   "cell_type": "code",
   "execution_count": null,
   "metadata": {},
   "outputs": [],
   "source": []
  }
 ],
 "metadata": {
  "kernelspec": {
   "display_name": "base",
   "language": "python",
   "name": "python3"
  },
  "language_info": {
   "codemirror_mode": {
    "name": "ipython",
    "version": 3
   },
   "file_extension": ".py",
   "mimetype": "text/x-python",
   "name": "python",
   "nbconvert_exporter": "python",
   "pygments_lexer": "ipython3",
   "version": "3.7.13 (default, Mar 28 2022, 03:01:27) [MSC v.1916 32 bit (Intel)]"
  },
  "vscode": {
   "interpreter": {
    "hash": "19d1d53a962d236aa061289c2ac16dc8e6d9648c89fe79f459ae9a3493bc67b4"
   }
  }
 },
 "nbformat": 4,
 "nbformat_minor": 2
}
